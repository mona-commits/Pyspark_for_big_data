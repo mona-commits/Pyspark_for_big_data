{
  "nbformat": 4,
  "nbformat_minor": 0,
  "metadata": {
    "anaconda-cloud": {},
    "kernelspec": {
      "display_name": "Python [conda root]",
      "language": "python",
      "name": "conda-root-py"
    },
    "language_info": {
      "codemirror_mode": {
        "name": "ipython",
        "version": 3
      },
      "file_extension": ".py",
      "mimetype": "text/x-python",
      "name": "python",
      "nbconvert_exporter": "python",
      "pygments_lexer": "ipython3",
      "version": "3.5.3"
    },
    "colab": {
      "name": "Linear_Regression_Consulting_Project_Hyundai.ipynb",
      "provenance": []
    }
  },
  "cells": [
    {
      "cell_type": "markdown",
      "metadata": {
        "id": "e1NTgNIXYD5U",
        "colab_type": "text"
      },
      "source": [
        "# Linear Regression Consulting Project"
      ]
    },
    {
      "cell_type": "markdown",
      "metadata": {
        "collapsed": true,
        "id": "4m4pL-eyYD5W",
        "colab_type": "text"
      },
      "source": [
        "Congratulations! You've been contracted by Hyundai Heavy Industries to help them build a predictive model for some ships. [Hyundai Heavy Industries](http://www.hyundai.eu/en) is one of the world's largest ship manufacturing companies and builds cruise liners.\n",
        "\n",
        "You've been flown to their headquarters in Ulsan, South Korea to help them give accurate estimates of how many crew members a ship will require.\n",
        "\n",
        "They are currently building new ships for some customers and want you to create a model and use it to predict how many crew members the ships will need.\n",
        "\n",
        "Here is what the data looks like so far:\n",
        "\n",
        "    Description: Measurements of ship size, capacity, crew, and age for 158 cruise\n",
        "    ships.\n",
        "\n",
        "\n",
        "    Variables/Columns\n",
        "    Ship Name     1-20\n",
        "    Cruise Line   21-40\n",
        "    Age (as of 2013)   46-48\n",
        "    Tonnage (1000s of tons)   50-56\n",
        "    passengers (100s)   58-64\n",
        "    Length (100s of feet)  66-72\n",
        "    Cabins  (100s)   74-80\n",
        "    Passenger Density   82-88\n",
        "    Crew  (100s)   90-96\n",
        "    \n",
        "It is saved in a csv file for you called \"cruise_ship_info.csv\". Your job is to create a regression model that will help predict how many crew members will be needed for future ships. The client also mentioned that they have found that particular cruise lines will differ in acceptable crew counts, so it is most likely an important feature to include in your analysis! \n",
        "\n",
        "Once you've created the model and tested it for a quick check on how well you can expect it to perform, make sure you take a look at why it performs so well!"
      ]
    },
    {
      "cell_type": "code",
      "metadata": {
        "id": "JHSscWF2YctA",
        "colab_type": "code",
        "colab": {
          "base_uri": "https://localhost:8080/",
          "height": 248
        },
        "outputId": "0373427b-64e7-46fd-c48c-0dd8bace80f5"
      },
      "source": [
        "!pip install pyspark\n",
        "from pyspark.sql import SparkSession\n",
        "spark = SparkSession.builder.appName('Hyndai').getOrCreate()"
      ],
      "execution_count": 1,
      "outputs": [
        {
          "output_type": "stream",
          "text": [
            "Collecting pyspark\n",
            "\u001b[?25l  Downloading https://files.pythonhosted.org/packages/8e/b0/bf9020b56492281b9c9d8aae8f44ff51e1bc91b3ef5a884385cb4e389a40/pyspark-3.0.0.tar.gz (204.7MB)\n",
            "\u001b[K     |████████████████████████████████| 204.7MB 65kB/s \n",
            "\u001b[?25hCollecting py4j==0.10.9\n",
            "\u001b[?25l  Downloading https://files.pythonhosted.org/packages/9e/b6/6a4fb90cd235dc8e265a6a2067f2a2c99f0d91787f06aca4bcf7c23f3f80/py4j-0.10.9-py2.py3-none-any.whl (198kB)\n",
            "\u001b[K     |████████████████████████████████| 204kB 40.1MB/s \n",
            "\u001b[?25hBuilding wheels for collected packages: pyspark\n",
            "  Building wheel for pyspark (setup.py) ... \u001b[?25l\u001b[?25hdone\n",
            "  Created wheel for pyspark: filename=pyspark-3.0.0-py2.py3-none-any.whl size=205044182 sha256=e4907f969ba1f80c9f0290aaafaff964a2ab5e9015a759e0aaa8e620880540ac\n",
            "  Stored in directory: /root/.cache/pip/wheels/57/27/4d/ddacf7143f8d5b76c45c61ee2e43d9f8492fc5a8e78ebd7d37\n",
            "Successfully built pyspark\n",
            "Installing collected packages: py4j, pyspark\n",
            "Successfully installed py4j-0.10.9 pyspark-3.0.0\n"
          ],
          "name": "stdout"
        }
      ]
    },
    {
      "cell_type": "code",
      "metadata": {
        "id": "PiT22YfhZHhP",
        "colab_type": "code",
        "colab": {}
      },
      "source": [
        "from pyspark.ml.regression import LinearRegression"
      ],
      "execution_count": 41,
      "outputs": []
    },
    {
      "cell_type": "code",
      "metadata": {
        "id": "3a5F-o8gY3yk",
        "colab_type": "code",
        "colab": {}
      },
      "source": [
        "df = spark.read.csv('/content/cruise_ship_info.csv', inferSchema = True, header = True)"
      ],
      "execution_count": 5,
      "outputs": []
    },
    {
      "cell_type": "code",
      "metadata": {
        "id": "hcb23dPVZgbW",
        "colab_type": "code",
        "colab": {
          "base_uri": "https://localhost:8080/",
          "height": 212
        },
        "outputId": "08a58a33-4701-4be8-eaa8-bb70a71f372c"
      },
      "source": [
        "df.printSchema()"
      ],
      "execution_count": 7,
      "outputs": [
        {
          "output_type": "stream",
          "text": [
            "root\n",
            " |-- Ship_name: string (nullable = true)\n",
            " |-- Cruise_line: string (nullable = true)\n",
            " |-- Age: integer (nullable = true)\n",
            " |-- Tonnage: double (nullable = true)\n",
            " |-- passengers: double (nullable = true)\n",
            " |-- length: double (nullable = true)\n",
            " |-- cabins: double (nullable = true)\n",
            " |-- passenger_density: double (nullable = true)\n",
            " |-- crew: double (nullable = true)\n",
            "\n"
          ],
          "name": "stdout"
        }
      ]
    },
    {
      "cell_type": "code",
      "metadata": {
        "id": "hNgoJLLtZpfG",
        "colab_type": "code",
        "colab": {}
      },
      "source": [
        "from pyspark.ml.linalg import Vectors\n",
        "from pyspark.ml.feature import VectorAssembler"
      ],
      "execution_count": 8,
      "outputs": []
    },
    {
      "cell_type": "code",
      "metadata": {
        "id": "BMCx-_f6Z95Y",
        "colab_type": "code",
        "colab": {
          "base_uri": "https://localhost:8080/",
          "height": 177
        },
        "outputId": "bd54b1d4-3033-4a05-a507-19e567ed56f8"
      },
      "source": [
        "df.columns"
      ],
      "execution_count": 10,
      "outputs": [
        {
          "output_type": "execute_result",
          "data": {
            "text/plain": [
              "['Ship_name',\n",
              " 'Cruise_line',\n",
              " 'Age',\n",
              " 'Tonnage',\n",
              " 'passengers',\n",
              " 'length',\n",
              " 'cabins',\n",
              " 'passenger_density',\n",
              " 'crew']"
            ]
          },
          "metadata": {
            "tags": []
          },
          "execution_count": 10
        }
      ]
    },
    {
      "cell_type": "code",
      "metadata": {
        "id": "bTpAC9uDaJXX",
        "colab_type": "code",
        "colab": {}
      },
      "source": [
        "from pyspark.ml.feature import StringIndexer\n",
        "from pyspark.ml.feature import OneHotEncoder\n",
        "Cruise_line_indexer = StringIndexer(inputCol=\"Cruise_line\", outputCol=\"cruise_cat\")\n",
        "indexed = Cruise_line_indexer.fit(df).transform(df)\n",
        "#encoder = OneHotEncoder(inputCols=[\"Cruise_line\"], outputCols=[\"Cruise_lie_vec\"])\n",
        "\n",
        "assembler = VectorAssembler(inputCols= ['cruise_cat','Age', 'Tonnage', 'passengers', 'length', 'cabins', 'passenger_density'], outputCol = 'features')"
      ],
      "execution_count": 48,
      "outputs": []
    },
    {
      "cell_type": "code",
      "metadata": {
        "id": "GfDHqmc2knN3",
        "colab_type": "code",
        "colab": {}
      },
      "source": [
        "output = assembler.transform(indexed)"
      ],
      "execution_count": 50,
      "outputs": []
    },
    {
      "cell_type": "code",
      "metadata": {
        "id": "sGbqEBgll01k",
        "colab_type": "code",
        "colab": {
          "base_uri": "https://localhost:8080/",
          "height": 479
        },
        "outputId": "6703f1a4-6210-474e-eb08-2fdbcba2a838"
      },
      "source": [
        "output.select('features').show()"
      ],
      "execution_count": 51,
      "outputs": [
        {
          "output_type": "stream",
          "text": [
            "+--------------------+\n",
            "|            features|\n",
            "+--------------------+\n",
            "|[16.0,6.0,30.2769...|\n",
            "|[16.0,6.0,30.2769...|\n",
            "|[1.0,26.0,47.262,...|\n",
            "|[1.0,11.0,110.0,2...|\n",
            "|[1.0,17.0,101.353...|\n",
            "|[1.0,22.0,70.367,...|\n",
            "|[1.0,15.0,70.367,...|\n",
            "|[1.0,23.0,70.367,...|\n",
            "|[1.0,19.0,70.367,...|\n",
            "|[1.0,6.0,110.2389...|\n",
            "|[1.0,10.0,110.0,2...|\n",
            "|[1.0,28.0,46.052,...|\n",
            "|[1.0,18.0,70.367,...|\n",
            "|[1.0,17.0,70.367,...|\n",
            "|[1.0,11.0,86.0,21...|\n",
            "|[1.0,8.0,110.0,29...|\n",
            "|[1.0,9.0,88.5,21....|\n",
            "|[1.0,15.0,70.367,...|\n",
            "|[1.0,12.0,88.5,21...|\n",
            "|[1.0,20.0,70.367,...|\n",
            "+--------------------+\n",
            "only showing top 20 rows\n",
            "\n"
          ],
          "name": "stdout"
        }
      ]
    },
    {
      "cell_type": "code",
      "metadata": {
        "id": "OBj81iTQmLRC",
        "colab_type": "code",
        "colab": {}
      },
      "source": [
        "final_data = output.select('features', 'Crew')"
      ],
      "execution_count": 52,
      "outputs": []
    },
    {
      "cell_type": "code",
      "metadata": {
        "id": "-joKEpgrmVMI",
        "colab_type": "code",
        "colab": {
          "base_uri": "https://localhost:8080/",
          "height": 479
        },
        "outputId": "5ac75756-8e00-4dc6-e509-f32860c0f723"
      },
      "source": [
        "final_data.show()"
      ],
      "execution_count": 53,
      "outputs": [
        {
          "output_type": "stream",
          "text": [
            "+--------------------+----+\n",
            "|            features|Crew|\n",
            "+--------------------+----+\n",
            "|[16.0,6.0,30.2769...|3.55|\n",
            "|[16.0,6.0,30.2769...|3.55|\n",
            "|[1.0,26.0,47.262,...| 6.7|\n",
            "|[1.0,11.0,110.0,2...|19.1|\n",
            "|[1.0,17.0,101.353...|10.0|\n",
            "|[1.0,22.0,70.367,...| 9.2|\n",
            "|[1.0,15.0,70.367,...| 9.2|\n",
            "|[1.0,23.0,70.367,...| 9.2|\n",
            "|[1.0,19.0,70.367,...| 9.2|\n",
            "|[1.0,6.0,110.2389...|11.5|\n",
            "|[1.0,10.0,110.0,2...|11.6|\n",
            "|[1.0,28.0,46.052,...| 6.6|\n",
            "|[1.0,18.0,70.367,...| 9.2|\n",
            "|[1.0,17.0,70.367,...| 9.2|\n",
            "|[1.0,11.0,86.0,21...| 9.3|\n",
            "|[1.0,8.0,110.0,29...|11.6|\n",
            "|[1.0,9.0,88.5,21....|10.3|\n",
            "|[1.0,15.0,70.367,...| 9.2|\n",
            "|[1.0,12.0,88.5,21...| 9.3|\n",
            "|[1.0,20.0,70.367,...| 9.2|\n",
            "+--------------------+----+\n",
            "only showing top 20 rows\n",
            "\n"
          ],
          "name": "stdout"
        }
      ]
    },
    {
      "cell_type": "code",
      "metadata": {
        "id": "BLcrU4cAma10",
        "colab_type": "code",
        "colab": {}
      },
      "source": [
        "train_data, test_data = final_data.randomSplit([0.7, 0.3])"
      ],
      "execution_count": 54,
      "outputs": []
    },
    {
      "cell_type": "code",
      "metadata": {
        "id": "Eznh5984mtY3",
        "colab_type": "code",
        "colab": {
          "base_uri": "https://localhost:8080/",
          "height": 195
        },
        "outputId": "1b6d71e5-e87d-44d5-c23e-52350f34951b"
      },
      "source": [
        "train_data.describe().show()"
      ],
      "execution_count": 55,
      "outputs": [
        {
          "output_type": "stream",
          "text": [
            "+-------+------------------+\n",
            "|summary|              Crew|\n",
            "+-------+------------------+\n",
            "|  count|               107|\n",
            "|   mean| 7.656261682242996|\n",
            "| stddev|3.5935675035505454|\n",
            "|    min|               0.6|\n",
            "|    max|              21.0|\n",
            "+-------+------------------+\n",
            "\n"
          ],
          "name": "stdout"
        }
      ]
    },
    {
      "cell_type": "code",
      "metadata": {
        "id": "-ooWJa5Tm4sy",
        "colab_type": "code",
        "colab": {
          "base_uri": "https://localhost:8080/",
          "height": 195
        },
        "outputId": "4143446a-2055-4933-bfe9-4bd602f10a0a"
      },
      "source": [
        "test_data.describe().show()"
      ],
      "execution_count": 56,
      "outputs": [
        {
          "output_type": "stream",
          "text": [
            "+-------+------------------+\n",
            "|summary|              Crew|\n",
            "+-------+------------------+\n",
            "|  count|                51|\n",
            "|   mean| 8.083529411764705|\n",
            "| stddev|3.3224188920299693|\n",
            "|    min|              0.59|\n",
            "|    max|              13.6|\n",
            "+-------+------------------+\n",
            "\n"
          ],
          "name": "stdout"
        }
      ]
    },
    {
      "cell_type": "code",
      "metadata": {
        "id": "VXSh7fDTm_lX",
        "colab_type": "code",
        "colab": {}
      },
      "source": [
        "lr = LinearRegression(labelCol = 'Crew')"
      ],
      "execution_count": 57,
      "outputs": []
    },
    {
      "cell_type": "code",
      "metadata": {
        "id": "cUKRsmTwnfR6",
        "colab_type": "code",
        "colab": {}
      },
      "source": [
        "lr_model = lr.fit(train_data)"
      ],
      "execution_count": 58,
      "outputs": []
    },
    {
      "cell_type": "code",
      "metadata": {
        "id": "IMnvVgHKnqLR",
        "colab_type": "code",
        "colab": {}
      },
      "source": [
        "test_results = lr_model.evaluate(test_data)"
      ],
      "execution_count": 59,
      "outputs": []
    },
    {
      "cell_type": "code",
      "metadata": {
        "id": "M6jr-mz3n6XI",
        "colab_type": "code",
        "colab": {
          "base_uri": "https://localhost:8080/",
          "height": 35
        },
        "outputId": "c5341a2c-eacf-41cd-d02e-596cd8c60313"
      },
      "source": [
        "test_results.rootMeanSquaredError"
      ],
      "execution_count": 60,
      "outputs": [
        {
          "output_type": "execute_result",
          "data": {
            "text/plain": [
              "0.6526946843980382"
            ]
          },
          "metadata": {
            "tags": []
          },
          "execution_count": 60
        }
      ]
    },
    {
      "cell_type": "code",
      "metadata": {
        "id": "CqRhiE0JoEQR",
        "colab_type": "code",
        "colab": {
          "base_uri": "https://localhost:8080/",
          "height": 35
        },
        "outputId": "0d82f0fa-2fcf-42d4-fa7a-ac3bce1bd411"
      },
      "source": [
        "test_results.r2"
      ],
      "execution_count": 61,
      "outputs": [
        {
          "output_type": "execute_result",
          "data": {
            "text/plain": [
              "0.9606348828615143"
            ]
          },
          "metadata": {
            "tags": []
          },
          "execution_count": 61
        }
      ]
    },
    {
      "cell_type": "code",
      "metadata": {
        "id": "HbqUtv7rqMsP",
        "colab_type": "code",
        "colab": {
          "base_uri": "https://localhost:8080/",
          "height": 35
        },
        "outputId": "047667ad-0b8e-40e5-e4de-18f3c0f97427"
      },
      "source": [
        "test_results.meanSquaredError"
      ],
      "execution_count": 62,
      "outputs": [
        {
          "output_type": "execute_result",
          "data": {
            "text/plain": [
              "0.4260103510414548"
            ]
          },
          "metadata": {
            "tags": []
          },
          "execution_count": 62
        }
      ]
    },
    {
      "cell_type": "code",
      "metadata": {
        "id": "bpJqMzktqQWf",
        "colab_type": "code",
        "colab": {
          "base_uri": "https://localhost:8080/",
          "height": 35
        },
        "outputId": "7e7e944d-09c5-4224-8f21-20bc78995b86"
      },
      "source": [
        "test_results.meanAbsoluteError"
      ],
      "execution_count": 63,
      "outputs": [
        {
          "output_type": "execute_result",
          "data": {
            "text/plain": [
              "0.5347085093831552"
            ]
          },
          "metadata": {
            "tags": []
          },
          "execution_count": 63
        }
      ]
    },
    {
      "cell_type": "code",
      "metadata": {
        "id": "A0pjXfWZqZSy",
        "colab_type": "code",
        "colab": {}
      },
      "source": [
        "from pyspark.sql.functions import corr"
      ],
      "execution_count": 64,
      "outputs": []
    },
    {
      "cell_type": "code",
      "metadata": {
        "id": "Mo7wn4EuqfUJ",
        "colab_type": "code",
        "colab": {
          "base_uri": "https://localhost:8080/",
          "height": 124
        },
        "outputId": "1eb838ab-38af-4a16-c499-bf5e255f3d1b"
      },
      "source": [
        "df.select(corr('crew', 'passengers')).show()"
      ],
      "execution_count": 65,
      "outputs": [
        {
          "output_type": "stream",
          "text": [
            "+----------------------+\n",
            "|corr(crew, passengers)|\n",
            "+----------------------+\n",
            "|    0.9152341306065384|\n",
            "+----------------------+\n",
            "\n"
          ],
          "name": "stdout"
        }
      ]
    }
  ]
}